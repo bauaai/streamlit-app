{
 "cells": [
  {
   "cell_type": "code",
   "execution_count": 1,
   "metadata": {},
   "outputs": [],
   "source": [
    "import geemap\n",
    "import ee\n"
   ]
  },
  {
   "cell_type": "code",
   "execution_count": 20,
   "metadata": {},
   "outputs": [],
   "source": [
    "from apps import rois, utils, satellite_params\n"
   ]
  },
  {
   "cell_type": "code",
   "execution_count": 5,
   "metadata": {},
   "outputs": [],
   "source": [
    "roi = rois.fire_cases[\"Marmaris 2021\"]\n"
   ]
  },
  {
   "cell_type": "code",
   "execution_count": 8,
   "metadata": {},
   "outputs": [],
   "source": [
    "geometry = roi[\"region\"]\n",
    "date_range = roi[\"date_range\"]\n"
   ]
  },
  {
   "cell_type": "code",
   "execution_count": 10,
   "metadata": {},
   "outputs": [
    {
     "data": {
      "text/plain": [
       "['2021-07-30', '2021-08-10']"
      ]
     },
     "execution_count": 10,
     "metadata": {},
     "output_type": "execute_result"
    }
   ],
   "source": [
    "date_range\n"
   ]
  },
  {
   "cell_type": "code",
   "execution_count": 12,
   "metadata": {},
   "outputs": [],
   "source": [
    "CRS = \"epsg:4326\"  # Coordinate Reference System\n",
    "import datetime\n",
    "\n",
    "DAY_WINDOW = datetime.timedelta(days=6)\n"
   ]
  },
  {
   "cell_type": "code",
   "execution_count": 32,
   "metadata": {},
   "outputs": [
    {
     "data": {
      "text/plain": [
       "{'prefire_start': '2021-07-24',\n",
       " 'prefire_end': '2021-07-30',\n",
       " 'postfire_start': '2021-08-10',\n",
       " 'postfire_end': '2021-08-16'}"
      ]
     },
     "execution_count": 32,
     "metadata": {},
     "output_type": "execute_result"
    }
   ],
   "source": [
    "before = datetime.date.fromisoformat(date_range[0])\n",
    "# before = datetime.date(before)\n",
    "after = datetime.date.fromisoformat(date_range[1])\n",
    "# after = datetime.date(after)\n",
    "\n",
    "\n",
    "dates = {\n",
    "    \"prefire_start\": str(before - DAY_WINDOW),\n",
    "    \"prefire_end\": str(before),\n",
    "    \"postfire_start\": str(after),\n",
    "    \"postfire_end\": str(after + DAY_WINDOW),\n",
    "}\n",
    "dates\n"
   ]
  },
  {
   "cell_type": "code",
   "execution_count": 21,
   "metadata": {},
   "outputs": [],
   "source": [
    "SENTINEL = satellite_params.satellite[\"sentinel-2\"][\"name\"]\n"
   ]
  },
  {
   "cell_type": "code",
   "execution_count": 33,
   "metadata": {},
   "outputs": [],
   "source": [
    "imagery = ee.ImageCollection(SENTINEL)\n",
    "\n",
    "prefire = imagery.filterDate(dates[\"prefire_start\"], dates[\"prefire_end\"]).filterBounds(\n",
    "    geometry\n",
    ")\n",
    "\n",
    "postfire = imagery.filterDate(\n",
    "    dates[\"postfire_start\"], dates[\"postfire_end\"]\n",
    ").filterBounds(geometry)\n",
    "\n",
    "pre_mos = prefire.median().clip(geometry)\n",
    "post_mos = postfire.median().clip(geometry)\n",
    "\n",
    "pre_nbr = pre_mos.normalizedDifference([\"B8\", \"B12\"])\n",
    "post_nbr = post_mos.normalizedDifference([\"B8\", \"B12\"])\n",
    "\n",
    "delta_nbr = pre_nbr.subtract(post_nbr).multiply(1000)  # why are we mutliplying by 1000?\n",
    "\n",
    "with open(\"assets/sld_intervals.xml\", \"r\", encoding=\"utf-8\") as file:\n",
    "    sld_intervals = file.read()\n"
   ]
  },
  {
   "cell_type": "code",
   "execution_count": 49,
   "metadata": {},
   "outputs": [],
   "source": [
    "delta_nbr_sld = delta_nbr.sldStyle(sld_intervals)\n"
   ]
  },
  {
   "cell_type": "code",
   "execution_count": 51,
   "metadata": {},
   "outputs": [
    {
     "data": {
      "text/plain": [
       "{'type': 'Image',\n",
       " 'bands': [{'id': 'vis-red',\n",
       "   'data_type': {'type': 'PixelType',\n",
       "    'precision': 'int',\n",
       "    'min': 0,\n",
       "    'max': 255},\n",
       "   'dimensions': [2, 2],\n",
       "   'origin': [27, 36],\n",
       "   'crs': 'EPSG:4326',\n",
       "   'crs_transform': [1, 0, 0, 0, 1, 0]},\n",
       "  {'id': 'vis-green',\n",
       "   'data_type': {'type': 'PixelType',\n",
       "    'precision': 'int',\n",
       "    'min': 0,\n",
       "    'max': 255},\n",
       "   'dimensions': [2, 2],\n",
       "   'origin': [27, 36],\n",
       "   'crs': 'EPSG:4326',\n",
       "   'crs_transform': [1, 0, 0, 0, 1, 0]},\n",
       "  {'id': 'vis-blue',\n",
       "   'data_type': {'type': 'PixelType',\n",
       "    'precision': 'int',\n",
       "    'min': 0,\n",
       "    'max': 255},\n",
       "   'dimensions': [2, 2],\n",
       "   'origin': [27, 36],\n",
       "   'crs': 'EPSG:4326',\n",
       "   'crs_transform': [1, 0, 0, 0, 1, 0]}]}"
      ]
     },
     "execution_count": 51,
     "metadata": {},
     "output_type": "execute_result"
    }
   ],
   "source": [
    "delta_nbr_sld.getInfo()\n"
   ]
  },
  {
   "cell_type": "code",
   "execution_count": null,
   "metadata": {},
   "outputs": [],
   "source": []
  }
 ],
 "metadata": {
  "kernelspec": {
   "display_name": "Python 3.10.5 ('.venv': venv)",
   "language": "python",
   "name": "python3"
  },
  "language_info": {
   "codemirror_mode": {
    "name": "ipython",
    "version": 3
   },
   "file_extension": ".py",
   "mimetype": "text/x-python",
   "name": "python",
   "nbconvert_exporter": "python",
   "pygments_lexer": "ipython3",
   "version": "3.10.5"
  },
  "orig_nbformat": 4,
  "vscode": {
   "interpreter": {
    "hash": "8c6c5239e96e09a1b7ed8198f852fef5af60203d233f8b7bcd931955209bce6f"
   }
  }
 },
 "nbformat": 4,
 "nbformat_minor": 2
}
